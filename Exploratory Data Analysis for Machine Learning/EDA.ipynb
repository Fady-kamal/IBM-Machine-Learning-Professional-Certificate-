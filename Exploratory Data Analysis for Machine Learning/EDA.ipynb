{
 "cells": [
  {
   "cell_type": "markdown",
   "metadata": {},
   "source": [
    "In this notebook, we are going to to do some exploratory data analysis on the famous Iris dataset.\n",
    "\n",
    "# Outline \n",
    "* [Brief Description of the Data Set and a Summary of its Attributes](#1)\n",
    "* [Initial Plan for Data Exploration](#2)\n",
    " * [Summary Statistics](#21)\n",
    " * [Data Visualization](#22)\n",
    "* [Data Cleaning](#3)\n",
    "* [Hypothesis Testing](#4)\n",
    " * [Shapiro–Wilk test](#41)\n",
    " * [chi-square test](#42)\n",
    "* [Next Steps](#5)"
   ]
  },
  {
   "cell_type": "code",
   "execution_count": 1,
   "metadata": {},
   "outputs": [],
   "source": [
    "#import the important libraries \n",
    "import pandas as pd \n",
    "import numpy as np \n",
    "import matplotlib.pyplot as plt\n",
    "import seaborn as sns"
   ]
  },
  {
   "cell_type": "markdown",
   "metadata": {},
   "source": [
    " ## Brief Description of the Data Set and a Summary of its Attributes <a anchor = \"anchor\" id = 1></a>\n",
    "The Iris Dataset contains four features (length and width of sepals and petals) of 50 samples of three species of Iris (Iris setosa, Iris virginica and Iris versicolor). These measures were used to create a linear discriminant model to classify the species. The dataset is often used in data mining, classification and clustering examples and to test algorithms. Here are pictures of the three flowers species:\n",
    "\n",
    "<img src = \"https://s3.amazonaws.com/assets.datacamp.com/blog_assets/Machine+Learning+R/iris-machinelearning.png\" > \n",
    "\n",
    "\n",
    "\n",
    "### Dataset Attributes\n",
    "\n",
    " - sepal length in cm  \n",
    " - sepal width in cm\n",
    " - petal length in cm\n",
    " - petal width in cm\n",
    " - class:\n",
    "  -  Iris Setosa\n",
    "  -  Iris Versicolour\n",
    "  -   Iris Virginica\n",
    " "
   ]
  },
  {
   "cell_type": "markdown",
   "metadata": {},
   "source": [
    "### Initial Plan for Data Exploration <a anchor = \"anchor\" id = 2></a>\n",
    "The goal of data exploration to understand the data set and summarize their characteristics. We will understand the data through two techniques: \n",
    "\n",
    "#### Summary Statistics  <a anchor = \"anchor\" id = 21></a>\n",
    "Summary statistics are quantities, such as the mean and standard deviation, that capture various characteristics of a potentially large set of values with a single number or a small set of numbers.\n",
    "\n",
    "\n"
   ]
  },
  {
   "cell_type": "code",
   "execution_count": 2,
   "metadata": {},
   "outputs": [],
   "source": [
    "#read the dataset\n",
    "\n",
    "data = pd.read_csv(\"IRIS.csv\")"
   ]
  },
  {
   "cell_type": "code",
   "execution_count": 3,
   "metadata": {},
   "outputs": [
    {
     "data": {
      "text/html": [
       "<div>\n",
       "<style scoped>\n",
       "    .dataframe tbody tr th:only-of-type {\n",
       "        vertical-align: middle;\n",
       "    }\n",
       "\n",
       "    .dataframe tbody tr th {\n",
       "        vertical-align: top;\n",
       "    }\n",
       "\n",
       "    .dataframe thead th {\n",
       "        text-align: right;\n",
       "    }\n",
       "</style>\n",
       "<table border=\"1\" class=\"dataframe\">\n",
       "  <thead>\n",
       "    <tr style=\"text-align: right;\">\n",
       "      <th></th>\n",
       "      <th>sepal_length</th>\n",
       "      <th>sepal_width</th>\n",
       "      <th>petal_length</th>\n",
       "      <th>petal_width</th>\n",
       "      <th>species</th>\n",
       "    </tr>\n",
       "  </thead>\n",
       "  <tbody>\n",
       "    <tr>\n",
       "      <th>0</th>\n",
       "      <td>5.1</td>\n",
       "      <td>3.5</td>\n",
       "      <td>1.4</td>\n",
       "      <td>0.2</td>\n",
       "      <td>Iris-setosa</td>\n",
       "    </tr>\n",
       "    <tr>\n",
       "      <th>1</th>\n",
       "      <td>4.9</td>\n",
       "      <td>3.0</td>\n",
       "      <td>1.4</td>\n",
       "      <td>0.2</td>\n",
       "      <td>Iris-setosa</td>\n",
       "    </tr>\n",
       "    <tr>\n",
       "      <th>2</th>\n",
       "      <td>4.7</td>\n",
       "      <td>3.2</td>\n",
       "      <td>1.3</td>\n",
       "      <td>0.2</td>\n",
       "      <td>Iris-setosa</td>\n",
       "    </tr>\n",
       "    <tr>\n",
       "      <th>3</th>\n",
       "      <td>4.6</td>\n",
       "      <td>3.1</td>\n",
       "      <td>1.5</td>\n",
       "      <td>0.2</td>\n",
       "      <td>Iris-setosa</td>\n",
       "    </tr>\n",
       "    <tr>\n",
       "      <th>4</th>\n",
       "      <td>5.0</td>\n",
       "      <td>3.6</td>\n",
       "      <td>1.4</td>\n",
       "      <td>0.2</td>\n",
       "      <td>Iris-setosa</td>\n",
       "    </tr>\n",
       "    <tr>\n",
       "      <th>...</th>\n",
       "      <td>...</td>\n",
       "      <td>...</td>\n",
       "      <td>...</td>\n",
       "      <td>...</td>\n",
       "      <td>...</td>\n",
       "    </tr>\n",
       "    <tr>\n",
       "      <th>145</th>\n",
       "      <td>6.7</td>\n",
       "      <td>3.0</td>\n",
       "      <td>5.2</td>\n",
       "      <td>2.3</td>\n",
       "      <td>Iris-virginica</td>\n",
       "    </tr>\n",
       "    <tr>\n",
       "      <th>146</th>\n",
       "      <td>6.3</td>\n",
       "      <td>2.5</td>\n",
       "      <td>5.0</td>\n",
       "      <td>1.9</td>\n",
       "      <td>Iris-virginica</td>\n",
       "    </tr>\n",
       "    <tr>\n",
       "      <th>147</th>\n",
       "      <td>6.5</td>\n",
       "      <td>3.0</td>\n",
       "      <td>5.2</td>\n",
       "      <td>2.0</td>\n",
       "      <td>Iris-virginica</td>\n",
       "    </tr>\n",
       "    <tr>\n",
       "      <th>148</th>\n",
       "      <td>6.2</td>\n",
       "      <td>3.4</td>\n",
       "      <td>5.4</td>\n",
       "      <td>2.3</td>\n",
       "      <td>Iris-virginica</td>\n",
       "    </tr>\n",
       "    <tr>\n",
       "      <th>149</th>\n",
       "      <td>5.9</td>\n",
       "      <td>3.0</td>\n",
       "      <td>5.1</td>\n",
       "      <td>1.8</td>\n",
       "      <td>Iris-virginica</td>\n",
       "    </tr>\n",
       "  </tbody>\n",
       "</table>\n",
       "<p>150 rows × 5 columns</p>\n",
       "</div>"
      ],
      "text/plain": [
       "     sepal_length  sepal_width  petal_length  petal_width         species\n",
       "0             5.1          3.5           1.4          0.2     Iris-setosa\n",
       "1             4.9          3.0           1.4          0.2     Iris-setosa\n",
       "2             4.7          3.2           1.3          0.2     Iris-setosa\n",
       "3             4.6          3.1           1.5          0.2     Iris-setosa\n",
       "4             5.0          3.6           1.4          0.2     Iris-setosa\n",
       "..            ...          ...           ...          ...             ...\n",
       "145           6.7          3.0           5.2          2.3  Iris-virginica\n",
       "146           6.3          2.5           5.0          1.9  Iris-virginica\n",
       "147           6.5          3.0           5.2          2.0  Iris-virginica\n",
       "148           6.2          3.4           5.4          2.3  Iris-virginica\n",
       "149           5.9          3.0           5.1          1.8  Iris-virginica\n",
       "\n",
       "[150 rows x 5 columns]"
      ]
     },
     "execution_count": 3,
     "metadata": {},
     "output_type": "execute_result"
    }
   ],
   "source": [
    "#Explore the data \n",
    "data"
   ]
  },
  {
   "cell_type": "code",
   "execution_count": 4,
   "metadata": {},
   "outputs": [
    {
     "data": {
      "text/plain": [
       "(150, 5)"
      ]
     },
     "execution_count": 4,
     "metadata": {},
     "output_type": "execute_result"
    }
   ],
   "source": [
    "#Explore the shape of the data \n",
    "data.shape"
   ]
  },
  {
   "cell_type": "code",
   "execution_count": 5,
   "metadata": {},
   "outputs": [
    {
     "data": {
      "text/html": [
       "<div>\n",
       "<style scoped>\n",
       "    .dataframe tbody tr th:only-of-type {\n",
       "        vertical-align: middle;\n",
       "    }\n",
       "\n",
       "    .dataframe tbody tr th {\n",
       "        vertical-align: top;\n",
       "    }\n",
       "\n",
       "    .dataframe thead th {\n",
       "        text-align: right;\n",
       "    }\n",
       "</style>\n",
       "<table border=\"1\" class=\"dataframe\">\n",
       "  <thead>\n",
       "    <tr style=\"text-align: right;\">\n",
       "      <th></th>\n",
       "      <th>sepal_length</th>\n",
       "      <th>sepal_width</th>\n",
       "      <th>petal_length</th>\n",
       "      <th>petal_width</th>\n",
       "      <th>species</th>\n",
       "    </tr>\n",
       "  </thead>\n",
       "  <tbody>\n",
       "    <tr>\n",
       "      <th>0</th>\n",
       "      <td>5.1</td>\n",
       "      <td>3.5</td>\n",
       "      <td>1.4</td>\n",
       "      <td>0.2</td>\n",
       "      <td>Iris-setosa</td>\n",
       "    </tr>\n",
       "    <tr>\n",
       "      <th>1</th>\n",
       "      <td>4.9</td>\n",
       "      <td>3.0</td>\n",
       "      <td>1.4</td>\n",
       "      <td>0.2</td>\n",
       "      <td>Iris-setosa</td>\n",
       "    </tr>\n",
       "    <tr>\n",
       "      <th>2</th>\n",
       "      <td>4.7</td>\n",
       "      <td>3.2</td>\n",
       "      <td>1.3</td>\n",
       "      <td>0.2</td>\n",
       "      <td>Iris-setosa</td>\n",
       "    </tr>\n",
       "    <tr>\n",
       "      <th>3</th>\n",
       "      <td>4.6</td>\n",
       "      <td>3.1</td>\n",
       "      <td>1.5</td>\n",
       "      <td>0.2</td>\n",
       "      <td>Iris-setosa</td>\n",
       "    </tr>\n",
       "    <tr>\n",
       "      <th>4</th>\n",
       "      <td>5.0</td>\n",
       "      <td>3.6</td>\n",
       "      <td>1.4</td>\n",
       "      <td>0.2</td>\n",
       "      <td>Iris-setosa</td>\n",
       "    </tr>\n",
       "  </tbody>\n",
       "</table>\n",
       "</div>"
      ],
      "text/plain": [
       "   sepal_length  sepal_width  petal_length  petal_width      species\n",
       "0           5.1          3.5           1.4          0.2  Iris-setosa\n",
       "1           4.9          3.0           1.4          0.2  Iris-setosa\n",
       "2           4.7          3.2           1.3          0.2  Iris-setosa\n",
       "3           4.6          3.1           1.5          0.2  Iris-setosa\n",
       "4           5.0          3.6           1.4          0.2  Iris-setosa"
      ]
     },
     "execution_count": 5,
     "metadata": {},
     "output_type": "execute_result"
    }
   ],
   "source": [
    "#Explore the first five columns in the dataset \n",
    "data.head()"
   ]
  },
  {
   "cell_type": "code",
   "execution_count": 6,
   "metadata": {},
   "outputs": [
    {
     "data": {
      "text/plain": [
       "Index(['sepal_length', 'sepal_width', 'petal_length', 'petal_width',\n",
       "       'species'],\n",
       "      dtype='object')"
      ]
     },
     "execution_count": 6,
     "metadata": {},
     "output_type": "execute_result"
    }
   ],
   "source": [
    "#get the columns names in the datset \n",
    "data.columns"
   ]
  },
  {
   "cell_type": "code",
   "execution_count": 7,
   "metadata": {},
   "outputs": [
    {
     "data": {
      "text/plain": [
       "Iris-setosa        50\n",
       "Iris-virginica     50\n",
       "Iris-versicolor    50\n",
       "Name: species, dtype: int64"
      ]
     },
     "execution_count": 7,
     "metadata": {},
     "output_type": "execute_result"
    }
   ],
   "source": [
    "#explore how many data points for each class\n",
    "data[\"species\"].value_counts()"
   ]
  },
  {
   "cell_type": "code",
   "execution_count": 8,
   "metadata": {},
   "outputs": [
    {
     "data": {
      "text/html": [
       "<div>\n",
       "<style scoped>\n",
       "    .dataframe tbody tr th:only-of-type {\n",
       "        vertical-align: middle;\n",
       "    }\n",
       "\n",
       "    .dataframe tbody tr th {\n",
       "        vertical-align: top;\n",
       "    }\n",
       "\n",
       "    .dataframe thead th {\n",
       "        text-align: right;\n",
       "    }\n",
       "</style>\n",
       "<table border=\"1\" class=\"dataframe\">\n",
       "  <thead>\n",
       "    <tr style=\"text-align: right;\">\n",
       "      <th></th>\n",
       "      <th>sepal_length</th>\n",
       "      <th>sepal_width</th>\n",
       "      <th>petal_length</th>\n",
       "      <th>petal_width</th>\n",
       "      <th>species</th>\n",
       "    </tr>\n",
       "  </thead>\n",
       "  <tbody>\n",
       "    <tr>\n",
       "      <th>count</th>\n",
       "      <td>150.000000</td>\n",
       "      <td>150.000000</td>\n",
       "      <td>150.000000</td>\n",
       "      <td>150.000000</td>\n",
       "      <td>150</td>\n",
       "    </tr>\n",
       "    <tr>\n",
       "      <th>unique</th>\n",
       "      <td>NaN</td>\n",
       "      <td>NaN</td>\n",
       "      <td>NaN</td>\n",
       "      <td>NaN</td>\n",
       "      <td>3</td>\n",
       "    </tr>\n",
       "    <tr>\n",
       "      <th>top</th>\n",
       "      <td>NaN</td>\n",
       "      <td>NaN</td>\n",
       "      <td>NaN</td>\n",
       "      <td>NaN</td>\n",
       "      <td>Iris-setosa</td>\n",
       "    </tr>\n",
       "    <tr>\n",
       "      <th>freq</th>\n",
       "      <td>NaN</td>\n",
       "      <td>NaN</td>\n",
       "      <td>NaN</td>\n",
       "      <td>NaN</td>\n",
       "      <td>50</td>\n",
       "    </tr>\n",
       "    <tr>\n",
       "      <th>mean</th>\n",
       "      <td>5.843333</td>\n",
       "      <td>3.054000</td>\n",
       "      <td>3.758667</td>\n",
       "      <td>1.198667</td>\n",
       "      <td>NaN</td>\n",
       "    </tr>\n",
       "    <tr>\n",
       "      <th>std</th>\n",
       "      <td>0.828066</td>\n",
       "      <td>0.433594</td>\n",
       "      <td>1.764420</td>\n",
       "      <td>0.763161</td>\n",
       "      <td>NaN</td>\n",
       "    </tr>\n",
       "    <tr>\n",
       "      <th>min</th>\n",
       "      <td>4.300000</td>\n",
       "      <td>2.000000</td>\n",
       "      <td>1.000000</td>\n",
       "      <td>0.100000</td>\n",
       "      <td>NaN</td>\n",
       "    </tr>\n",
       "    <tr>\n",
       "      <th>25%</th>\n",
       "      <td>5.100000</td>\n",
       "      <td>2.800000</td>\n",
       "      <td>1.600000</td>\n",
       "      <td>0.300000</td>\n",
       "      <td>NaN</td>\n",
       "    </tr>\n",
       "    <tr>\n",
       "      <th>50%</th>\n",
       "      <td>5.800000</td>\n",
       "      <td>3.000000</td>\n",
       "      <td>4.350000</td>\n",
       "      <td>1.300000</td>\n",
       "      <td>NaN</td>\n",
       "    </tr>\n",
       "    <tr>\n",
       "      <th>75%</th>\n",
       "      <td>6.400000</td>\n",
       "      <td>3.300000</td>\n",
       "      <td>5.100000</td>\n",
       "      <td>1.800000</td>\n",
       "      <td>NaN</td>\n",
       "    </tr>\n",
       "    <tr>\n",
       "      <th>max</th>\n",
       "      <td>7.900000</td>\n",
       "      <td>4.400000</td>\n",
       "      <td>6.900000</td>\n",
       "      <td>2.500000</td>\n",
       "      <td>NaN</td>\n",
       "    </tr>\n",
       "  </tbody>\n",
       "</table>\n",
       "</div>"
      ],
      "text/plain": [
       "        sepal_length  sepal_width  petal_length  petal_width      species\n",
       "count     150.000000   150.000000    150.000000   150.000000          150\n",
       "unique           NaN          NaN           NaN          NaN            3\n",
       "top              NaN          NaN           NaN          NaN  Iris-setosa\n",
       "freq             NaN          NaN           NaN          NaN           50\n",
       "mean        5.843333     3.054000      3.758667     1.198667          NaN\n",
       "std         0.828066     0.433594      1.764420     0.763161          NaN\n",
       "min         4.300000     2.000000      1.000000     0.100000          NaN\n",
       "25%         5.100000     2.800000      1.600000     0.300000          NaN\n",
       "50%         5.800000     3.000000      4.350000     1.300000          NaN\n",
       "75%         6.400000     3.300000      5.100000     1.800000          NaN\n",
       "max         7.900000     4.400000      6.900000     2.500000          NaN"
      ]
     },
     "execution_count": 8,
     "metadata": {},
     "output_type": "execute_result"
    }
   ],
   "source": [
    "#summary for all the attributes\n",
    "data.describe(include = \"all\")"
   ]
  },
  {
   "cell_type": "code",
   "execution_count": 9,
   "metadata": {},
   "outputs": [
    {
     "name": "stdout",
     "output_type": "stream",
     "text": [
      "Covariance:\n"
     ]
    },
    {
     "data": {
      "text/html": [
       "<div>\n",
       "<style scoped>\n",
       "    .dataframe tbody tr th:only-of-type {\n",
       "        vertical-align: middle;\n",
       "    }\n",
       "\n",
       "    .dataframe tbody tr th {\n",
       "        vertical-align: top;\n",
       "    }\n",
       "\n",
       "    .dataframe thead th {\n",
       "        text-align: right;\n",
       "    }\n",
       "</style>\n",
       "<table border=\"1\" class=\"dataframe\">\n",
       "  <thead>\n",
       "    <tr style=\"text-align: right;\">\n",
       "      <th></th>\n",
       "      <th>sepal_length</th>\n",
       "      <th>sepal_width</th>\n",
       "      <th>petal_length</th>\n",
       "      <th>petal_width</th>\n",
       "    </tr>\n",
       "  </thead>\n",
       "  <tbody>\n",
       "    <tr>\n",
       "      <th>sepal_length</th>\n",
       "      <td>0.685694</td>\n",
       "      <td>-0.039268</td>\n",
       "      <td>1.273682</td>\n",
       "      <td>0.516904</td>\n",
       "    </tr>\n",
       "    <tr>\n",
       "      <th>sepal_width</th>\n",
       "      <td>-0.039268</td>\n",
       "      <td>0.188004</td>\n",
       "      <td>-0.321713</td>\n",
       "      <td>-0.117981</td>\n",
       "    </tr>\n",
       "    <tr>\n",
       "      <th>petal_length</th>\n",
       "      <td>1.273682</td>\n",
       "      <td>-0.321713</td>\n",
       "      <td>3.113179</td>\n",
       "      <td>1.296387</td>\n",
       "    </tr>\n",
       "    <tr>\n",
       "      <th>petal_width</th>\n",
       "      <td>0.516904</td>\n",
       "      <td>-0.117981</td>\n",
       "      <td>1.296387</td>\n",
       "      <td>0.582414</td>\n",
       "    </tr>\n",
       "  </tbody>\n",
       "</table>\n",
       "</div>"
      ],
      "text/plain": [
       "              sepal_length  sepal_width  petal_length  petal_width\n",
       "sepal_length      0.685694    -0.039268      1.273682     0.516904\n",
       "sepal_width      -0.039268     0.188004     -0.321713    -0.117981\n",
       "petal_length      1.273682    -0.321713      3.113179     1.296387\n",
       "petal_width       0.516904    -0.117981      1.296387     0.582414"
      ]
     },
     "execution_count": 9,
     "metadata": {},
     "output_type": "execute_result"
    }
   ],
   "source": [
    "# compute the covariance and corellation between pairs of attributes \n",
    "print(\"Covariance:\")\n",
    "data.cov()"
   ]
  },
  {
   "cell_type": "code",
   "execution_count": 10,
   "metadata": {},
   "outputs": [
    {
     "name": "stdout",
     "output_type": "stream",
     "text": [
      "Correlation\n"
     ]
    },
    {
     "data": {
      "text/html": [
       "<div>\n",
       "<style scoped>\n",
       "    .dataframe tbody tr th:only-of-type {\n",
       "        vertical-align: middle;\n",
       "    }\n",
       "\n",
       "    .dataframe tbody tr th {\n",
       "        vertical-align: top;\n",
       "    }\n",
       "\n",
       "    .dataframe thead th {\n",
       "        text-align: right;\n",
       "    }\n",
       "</style>\n",
       "<table border=\"1\" class=\"dataframe\">\n",
       "  <thead>\n",
       "    <tr style=\"text-align: right;\">\n",
       "      <th></th>\n",
       "      <th>sepal_length</th>\n",
       "      <th>sepal_width</th>\n",
       "      <th>petal_length</th>\n",
       "      <th>petal_width</th>\n",
       "    </tr>\n",
       "  </thead>\n",
       "  <tbody>\n",
       "    <tr>\n",
       "      <th>sepal_length</th>\n",
       "      <td>1.000000</td>\n",
       "      <td>-0.109369</td>\n",
       "      <td>0.871754</td>\n",
       "      <td>0.817954</td>\n",
       "    </tr>\n",
       "    <tr>\n",
       "      <th>sepal_width</th>\n",
       "      <td>-0.109369</td>\n",
       "      <td>1.000000</td>\n",
       "      <td>-0.420516</td>\n",
       "      <td>-0.356544</td>\n",
       "    </tr>\n",
       "    <tr>\n",
       "      <th>petal_length</th>\n",
       "      <td>0.871754</td>\n",
       "      <td>-0.420516</td>\n",
       "      <td>1.000000</td>\n",
       "      <td>0.962757</td>\n",
       "    </tr>\n",
       "    <tr>\n",
       "      <th>petal_width</th>\n",
       "      <td>0.817954</td>\n",
       "      <td>-0.356544</td>\n",
       "      <td>0.962757</td>\n",
       "      <td>1.000000</td>\n",
       "    </tr>\n",
       "  </tbody>\n",
       "</table>\n",
       "</div>"
      ],
      "text/plain": [
       "              sepal_length  sepal_width  petal_length  petal_width\n",
       "sepal_length      1.000000    -0.109369      0.871754     0.817954\n",
       "sepal_width      -0.109369     1.000000     -0.420516    -0.356544\n",
       "petal_length      0.871754    -0.420516      1.000000     0.962757\n",
       "petal_width       0.817954    -0.356544      0.962757     1.000000"
      ]
     },
     "execution_count": 10,
     "metadata": {},
     "output_type": "execute_result"
    }
   ],
   "source": [
    "print(\"Correlation\")\n",
    "data.corr()"
   ]
  },
  {
   "cell_type": "markdown",
   "metadata": {},
   "source": [
    " __Observations:__\n",
    " \n",
    " - The correlation between petal length and petal width is 0.96 which indicate thart they have negative correlation relationship\n",
    " - The correlation between sepal length and sepal width is -0.109 which indicate that they have positive correlation relationship\n",
    " - Also, we can see that Petal Length and Petal Width __have stronger correlation relationship__ than Sepal length and Sepal Width\n",
    " \n",
    " \n",
    "\n",
    "\n",
    "\n"
   ]
  },
  {
   "cell_type": "markdown",
   "metadata": {},
   "source": [
    "#### Data Visualization <a anchor = \"anchor\" id = 22></a>\n",
    "Data visualization is the display of information in a graphic or tabular format. Successful visualization requires that the data (information) be converted into a visual format so that the characteristics of the data and the relationships among data items or attributes can be analyzed or reported."
   ]
  },
  {
   "cell_type": "code",
   "execution_count": 11,
   "metadata": {},
   "outputs": [
    {
     "data": {
      "image/png": "[encoded data removed]",
      "text/plain": [
       "<Figure size 1080x864 with 4 Axes>"
      ]
     },
     "metadata": {
      "needs_background": "light"
     },
     "output_type": "display_data"
    }
   ],
   "source": [
    "#Create a histogram for the attributes by \n",
    "#discretizing each of them into 8 separate bins and counting the frequency for each bin\n",
    "columns = list(data.columns)\n",
    "plt.figure(figsize = (15,12))\n",
    "for i in range(1,5,1):\n",
    "    plt.subplot(2,2,i)\n",
    "    data.iloc[:,i-1].hist(bins = 8)\n",
    "    plt.xlabel(columns[i - 1])\n",
    "    plt.title(\"Histogram of \" + columns[i - 1].replace(\"_\", \" \").title())"
   ]
  },
  {
   "cell_type": "code",
   "execution_count": 12,
   "metadata": {},
   "outputs": [
    {
     "data": {
      "image/png": "[encoded data removed]",
      "text/plain": [
       "<Figure size 1440x720 with 4 Axes>"
      ]
     },
     "metadata": {
      "needs_background": "light"
     },
     "output_type": "display_data"
    }
   ],
   "source": [
    "# plot the density plot for the attributes\n",
    "plt.figure(figsize = (20,10))\n",
    "for i in range(1,5,1):\n",
    "    plt.subplot(2,2,i)\n",
    "    data.iloc[:,i-1].plot.kde()\n",
    "    plt.xlabel(columns[i - 1])\n",
    "    plt.title(\"Histogram of \" + columns[i - 1].replace(\"_\", \" \").title())"
   ]
  },
  {
   "cell_type": "markdown",
   "metadata": {},
   "source": [
    "__Observations:__\n",
    "\n",
    "- The attributes don't seem normally distributed \n",
    "- Sepal lenght has a flat top with positive skewness\n",
    "- Sepal width seems to have positive kurtosis\n",
    "- Petal lenght and petal width are bimodal, which might indicate the presence of multiple populations"
   ]
  },
  {
   "cell_type": "code",
   "execution_count": 45,
   "metadata": {},
   "outputs": [
    {
     "name": "stderr",
     "output_type": "stream",
     "text": [
      "D:\\anaconda3\\lib\\site-packages\\pandas\\plotting\\_matplotlib\\boxplot.py:364: UserWarning: To output multiple subplots, the figure containing the passed axes is being cleared\n",
      "  ax = boxplot(\n"
     ]
    },
    {
     "data": {
      "text/plain": [
       "array([[<matplotlib.axes._subplots.AxesSubplot object at 0x0000026FD8E7D610>,\n",
       "        <matplotlib.axes._subplots.AxesSubplot object at 0x0000026FD9121760>],\n",
       "       [<matplotlib.axes._subplots.AxesSubplot object at 0x0000026FD9140B80>,\n",
       "        <matplotlib.axes._subplots.AxesSubplot object at 0x0000026FD916DEE0>]],\n",
       "      dtype=object)"
      ]
     },
     "execution_count": 45,
     "metadata": {},
     "output_type": "execute_result"
    },
    {
     "data": {
      "image/png": "[encoded data removed]",
      "text/plain": [
       "<Figure size 1440x1440 with 4 Axes>"
      ]
     },
     "metadata": {
      "needs_background": "light"
     },
     "output_type": "display_data"
    }
   ],
   "source": [
    "fig, ax = plt.subplots(figsize=(20,20))\n",
    "data.boxplot(column=['sepal_length', 'sepal_width', 'petal_length', 'petal_width'], by = \"species\",  ax=ax)"
   ]
  },
  {
   "cell_type": "markdown",
   "metadata": {},
   "source": [
    "__Observations:__\n",
    "\n",
    "- The boxplots confirm that the range of the Setosa’s petal length and width are lower than the other two, so already these two features seem useful for predicting species. \n",
    "\n",
    "\n",
    "\n",
    "lets plot a scatter plot between petal length and petal width and also for sepal length and sepal width to see if there is a linear relationship between them "
   ]
  },
  {
   "cell_type": "code",
   "execution_count": 87,
   "metadata": {
    "scrolled": true
   },
   "outputs": [
    {
     "data": {
      "image/png": "[encoded data removed]",
      "text/plain": [
       "<Figure size 1440x720 with 2 Axes>"
      ]
     },
     "metadata": {
      "needs_background": "light"
     },
     "output_type": "display_data"
    }
   ],
   "source": [
    "plt.figure(figsize = (20,10))\n",
    "j = 1\n",
    "for i in range(0,4,2):\n",
    "    plt.subplot(1,2,j)\n",
    "    sns.scatterplot(data = data, x = data[columns[i]],y = data[columns[i + 1]], hue = \"species\")\n",
    "    j += 1"
   ]
  },
  {
   "cell_type": "markdown",
   "metadata": {},
   "source": [
    "__Observations:__\n",
    "\n",
    "- Sepal measurements are unhelpful since we cannot cluster every class  out of the three classes in species \n",
    "- However, Petal measurements are very helpful since we can see from the plot three clusters and every one specified in a specific range "
   ]
  },
  {
   "cell_type": "markdown",
   "metadata": {},
   "source": [
    "### Data Cleaning <a anchor = \"anchor\" id = 3></a>\n"
   ]
  },
  {
   "cell_type": "code",
   "execution_count": 89,
   "metadata": {},
   "outputs": [
    {
     "data": {
      "text/plain": [
       "sepal_length    0\n",
       "sepal_width     0\n",
       "petal_length    0\n",
       "petal_width     0\n",
       "species         0\n",
       "dtype: int64"
      ]
     },
     "execution_count": 89,
     "metadata": {},
     "output_type": "execute_result"
    }
   ],
   "source": [
    "#count the number of missing values in the dataset \n",
    "data.isnull().sum()"
   ]
  },
  {
   "cell_type": "markdown",
   "metadata": {},
   "source": [
    "__Observation:__\n",
    "\n",
    "- We can see that the data is cleaned so we don't need any imputation "
   ]
  },
  {
   "cell_type": "markdown",
   "metadata": {},
   "source": [
    "### Hypothesis Testing <a anchor = \"anchor\" id = 4></a>\n",
    "\n",
    "\n",
    "#### Shapiro–Wilk test <a anchor = \"anchor\" id = 41></a>\n",
    "\n",
    "We can check the normality of the data using __Shapiro–Wilk test__. \n",
    "\n",
    "What does p-value mean in Shapiro-Wilk test?\n",
    " - The Prob < W value listed in the output is the p-value. \n",
    " - If the chosen alpha level is 0.05 and the p-value is less than 0.05, then the null hypothesis that the data are normally distributed is rejected. \n",
    " - If the p-value is greater than 0.05, then the null hypothesis is not rejected."
   ]
  },
  {
   "cell_type": "code",
   "execution_count": 103,
   "metadata": {},
   "outputs": [],
   "source": [
    "from scipy import stats\n",
    "from scipy.stats import shapiro\n",
    "\n",
    "from scipy.stats import chi2_contingency\n",
    "from scipy.stats import chi2"
   ]
  },
  {
   "cell_type": "code",
   "execution_count": 99,
   "metadata": {},
   "outputs": [
    {
     "name": "stdout",
     "output_type": "stream",
     "text": [
      "Statistics=0.976, p=0.010\n",
      "sepal_length feature distribution does not look normal (reject H0)\n",
      "Statistics=0.984, p=0.075\n",
      "sepal_width feature distribution looks normal (fail to reject H0)\n",
      "Statistics=0.876, p=0.000\n",
      "petal_length feature distribution does not look normal (reject H0)\n",
      "Statistics=0.903, p=0.000\n",
      "Ppetal_width feature distribution does not look normal (reject H0)\n"
     ]
    }
   ],
   "source": [
    "#The Shapiro-Wilk test evaluates a data sample and quantifies how likely it is that \n",
    "#the data was drawn from a normal distribution, named for Samuel Shapiro and Martin Wilk.\n",
    "\n",
    "stat, p = shapiro(data['sepal_length'])\n",
    "print('Statistics=%.3f, p=%.3f' % (stat, p))\n",
    "# interpret\n",
    "alpha = 0.05\n",
    "if p > alpha:\n",
    "    print('sepal_length feature distribution looks normal (fail to reject H0)')\n",
    "else:\n",
    "    print('sepal_length feature distribution does not look normal (reject H0)')\n",
    "    \n",
    "\n",
    "stat, p = shapiro(data['sepal_width'])\n",
    "print('Statistics=%.3f, p=%.3f' % (stat, p))\n",
    "# interpret\n",
    "alpha = 0.05\n",
    "if p > alpha:\n",
    "    print('sepal_width feature distribution looks normal (fail to reject H0)')\n",
    "else:\n",
    "    print('sepal_width feature distribution does not look normal (reject H0)')\n",
    "    \n",
    "\n",
    "stat, p = shapiro(data['petal_length'])\n",
    "print('Statistics=%.3f, p=%.3f' % (stat, p))\n",
    "# interpret\n",
    "alpha = 0.05\n",
    "if p > alpha:\n",
    "    print('petal_length feature distribution looks normal (fail to reject H0)')\n",
    "else:\n",
    "    print('petal_length feature distribution does not look normal (reject H0)')\n",
    "\n",
    "stat, p = shapiro(data['petal_width'])\n",
    "print('Statistics=%.3f, p=%.3f' % (stat, p))\n",
    "# interpret\n",
    "alpha = 0.05\n",
    "if p > alpha:\n",
    "    print('Ppetal_width feature distribution looks normal (fail to reject H0)')\n",
    "else:\n",
    "    print('Ppetal_width feature distribution does not look normal (reject H0)')"
   ]
  },
  {
   "cell_type": "markdown",
   "metadata": {},
   "source": [
    "####  chi-square test  <a anchor = \"anchor\" id = 42></a>\n",
    "Let's use chi-square test to understand relationship between categorical variables and target variable.\n",
    "\n",
    "Assume Null hypothesys - Ho: Variables A(sepal_length/sepal_width/petal_length/petal_width) and Variable B(species) are independent.\n",
    "\n",
    "Assume alternate hypothesys - Ha: Variable A sepal_length/sepal_width/petal_length/petal_width)and Variable B(species) are not independent.\n",
    "\n",
    "Significance level : 0.05\n"
   ]
  },
  {
   "cell_type": "code",
   "execution_count": 104,
   "metadata": {},
   "outputs": [
    {
     "name": "stdout",
     "output_type": "stream",
     "text": [
      "Ho: species and sepal_length are not independent features\n",
      "Ha: species and sepal_length are independent features\n",
      "chi_squared_stat : 156.26666666666668\n",
      "Dependent : Reject Hypothesis 0 (null Hypothesis)\n",
      "Significance 0.050000000000000044, 6.665987344005466e-09\n",
      "Dependent : Reject Hypothesis 0 (null Hypothesis)\n"
     ]
    }
   ],
   "source": [
    "print('Ho: species and sepal_length are not independent features')\n",
    "print('Ha: species and sepal_length are independent features')\n",
    "\n",
    "chi_squared_stat, p_value, dof, expected=chi2_contingency(pd.crosstab(data['species'], data['sepal_length']))\n",
    "print(\"chi_squared_stat :\", chi_squared_stat)\n",
    "probability=0.95\n",
    "critical=chi2.ppf(probability, dof)\n",
    "if abs(chi_squared_stat)>=critical:\n",
    "    print('Dependent : Reject Hypothesis 0 (null Hypothesis)')\n",
    "elif abs(chi_squared_stat)<critical:\n",
    "    print('Inependent : Fail to Reject Hypothesis 0 (null Hypothesis)')\n",
    "    \n",
    "alpha = 1.0 - probability\n",
    "print('Significance {0}, {1}'.format(alpha, p_value))\n",
    "if p_value<=alpha:\n",
    "    print(\"Dependent : Reject Hypothesis 0 (null Hypothesis)\")\n",
    "else:\n",
    "    print('Inependent : Fail to Reject Hypothesis 0 (null Hypothesis)')\n",
    "        \n",
    "    print('================================================================')"
   ]
  },
  {
   "cell_type": "code",
   "execution_count": 105,
   "metadata": {},
   "outputs": [
    {
     "name": "stdout",
     "output_type": "stream",
     "text": [
      "Ho: species and sepal_width are not independent features\n",
      "Ha: species and sepal_width are independent features\n",
      "chi_squared_stat : 88.36446886446886\n",
      "Dependent : Reject Hypothesis 0 (null Hypothesis)\n",
      "Significance 0.050000000000000044, 8.303947787862062e-05\n",
      "Dependent : Reject Hypothesis 0 (null Hypothesis)\n"
     ]
    }
   ],
   "source": [
    "print('Ho: species and sepal_width are not independent features')\n",
    "print('Ha: species and sepal_width are independent features')\n",
    "\n",
    "chi_squared_stat, p_value, dof, expected=chi2_contingency(pd.crosstab(data['species'], data['sepal_width']))\n",
    "print(\"chi_squared_stat :\", chi_squared_stat)\n",
    "probability=0.95\n",
    "critical=chi2.ppf(probability, dof)\n",
    "if abs(chi_squared_stat)>=critical:\n",
    "    print('Dependent : Reject Hypothesis 0 (null Hypothesis)')\n",
    "elif abs(chi_squared_stat)<critical:\n",
    "    print('Inependent : Fail to Reject Hypothesis 0 (null Hypothesis)')\n",
    "    \n",
    "alpha = 1.0 - probability\n",
    "print('Significance {0}, {1}'.format(alpha, p_value))\n",
    "if p_value<=alpha:\n",
    "    print(\"Dependent : Reject Hypothesis 0 (null Hypothesis)\")\n",
    "else:\n",
    "    print('Inependent : Fail to Reject Hypothesis 0 (null Hypothesis)')\n",
    "        \n",
    "    print('================================================================')"
   ]
  },
  {
   "cell_type": "code",
   "execution_count": 106,
   "metadata": {},
   "outputs": [
    {
     "name": "stdout",
     "output_type": "stream",
     "text": [
      "Ho: species and petal_length are not independent features\n",
      "Ha: species and petal_length are independent features\n",
      "chi_squared_stat : 271.79999999999995\n",
      "Dependent : Reject Hypothesis 0 (null Hypothesis)\n",
      "Significance 0.050000000000000044, 1.1775672327529825e-21\n",
      "Dependent : Reject Hypothesis 0 (null Hypothesis)\n"
     ]
    }
   ],
   "source": [
    "print('Ho: species and petal_length are not independent features')\n",
    "print('Ha: species and petal_length are independent features')\n",
    "\n",
    "chi_squared_stat, p_value, dof, expected=chi2_contingency(pd.crosstab(data['species'], data['petal_length']))\n",
    "print(\"chi_squared_stat :\", chi_squared_stat)\n",
    "probability=0.95\n",
    "critical=chi2.ppf(probability, dof)\n",
    "if abs(chi_squared_stat)>=critical:\n",
    "    print('Dependent : Reject Hypothesis 0 (null Hypothesis)')\n",
    "elif abs(chi_squared_stat)<critical:\n",
    "    print('Inependent : Fail to Reject Hypothesis 0 (null Hypothesis)')\n",
    "    \n",
    "alpha = 1.0 - probability\n",
    "print('Significance {0}, {1}'.format(alpha, p_value))\n",
    "if p_value<=alpha:\n",
    "    print(\"Dependent : Reject Hypothesis 0 (null Hypothesis)\")\n",
    "else:\n",
    "    print('Inependent : Fail to Reject Hypothesis 0 (null Hypothesis)')\n",
    "        \n",
    "    print('================================================================')"
   ]
  },
  {
   "cell_type": "code",
   "execution_count": 107,
   "metadata": {},
   "outputs": [
    {
     "name": "stdout",
     "output_type": "stream",
     "text": [
      "Ho: species and petal_width are not independent features\n",
      "Ha: species and petal_width are independent features\n",
      "chi_squared_stat : 271.75\n",
      "Dependent : Reject Hypothesis 0 (null Hypothesis)\n",
      "Significance 0.050000000000000044, 2.1648103108815957e-35\n",
      "Dependent : Reject Hypothesis 0 (null Hypothesis)\n"
     ]
    }
   ],
   "source": [
    "print('Ho: species and petal_width are not independent features')\n",
    "print('Ha: species and petal_width are independent features')\n",
    "\n",
    "chi_squared_stat, p_value, dof, expected=chi2_contingency(pd.crosstab(data['species'], data['petal_width']))\n",
    "print(\"chi_squared_stat :\", chi_squared_stat)\n",
    "probability=0.95\n",
    "critical=chi2.ppf(probability, dof)\n",
    "if abs(chi_squared_stat)>=critical:\n",
    "    print('Dependent : Reject Hypothesis 0 (null Hypothesis)')\n",
    "elif abs(chi_squared_stat)<critical:\n",
    "    print('Inependent : Fail to Reject Hypothesis 0 (null Hypothesis)')\n",
    "    \n",
    "alpha = 1.0 - probability\n",
    "print('Significance {0}, {1}'.format(alpha, p_value))\n",
    "if p_value<=alpha:\n",
    "    print(\"Dependent : Reject Hypothesis 0 (null Hypothesis)\")\n",
    "else:\n",
    "    print('Inependent : Fail to Reject Hypothesis 0 (null Hypothesis)')"
   ]
  },
  {
   "cell_type": "markdown",
   "metadata": {},
   "source": [
    "__Observation:__\n",
    "- A(sepal_length/sepal_width/petal_length/petal_width) and Variable B(species) are dependent on each other\n",
    "\n",
    "<br>\n",
    "\n",
    "### Pearson's correlation test  <a anchor = \"anchor\" id = 43></a>\n",
    "Pearson's correlation coefficient is the test statistics that measures the statistical relationship, or association, between two continuous variables.\n",
    "\n",
    "If the P-value is smaller than the significance level (α =0.05), we REJECT the null hypothesis in favor of the alternative. We conclude that the correlation is statically significant. or in simple words “ we conclude that there is a linear relationship between x and y in the population at the α level"
   ]
  },
  {
   "cell_type": "code",
   "execution_count": 114,
   "metadata": {},
   "outputs": [],
   "source": [
    "corr_df = pd.DataFrame(columns = ['r', 'p'])\n",
    "\n",
    "for col in data:\n",
    "    if pd.api.types.is_numeric_dtype(data[col]) and col != 'sepal_length':\n",
    "        r,p = stats.pearsonr(data.sepal_length,data[col])\n",
    "        corr_df.loc[col] = [round(r,3), round(p,3)]"
   ]
  },
  {
   "cell_type": "code",
   "execution_count": 115,
   "metadata": {},
   "outputs": [
    {
     "data": {
      "text/html": [
       "<div>\n",
       "<style scoped>\n",
       "    .dataframe tbody tr th:only-of-type {\n",
       "        vertical-align: middle;\n",
       "    }\n",
       "\n",
       "    .dataframe tbody tr th {\n",
       "        vertical-align: top;\n",
       "    }\n",
       "\n",
       "    .dataframe thead th {\n",
       "        text-align: right;\n",
       "    }\n",
       "</style>\n",
       "<table border=\"1\" class=\"dataframe\">\n",
       "  <thead>\n",
       "    <tr style=\"text-align: right;\">\n",
       "      <th></th>\n",
       "      <th>r</th>\n",
       "      <th>p</th>\n",
       "    </tr>\n",
       "  </thead>\n",
       "  <tbody>\n",
       "    <tr>\n",
       "      <th>sepal_width</th>\n",
       "      <td>-0.109</td>\n",
       "      <td>0.183</td>\n",
       "    </tr>\n",
       "    <tr>\n",
       "      <th>petal_length</th>\n",
       "      <td>0.872</td>\n",
       "      <td>0.000</td>\n",
       "    </tr>\n",
       "    <tr>\n",
       "      <th>petal_width</th>\n",
       "      <td>0.818</td>\n",
       "      <td>0.000</td>\n",
       "    </tr>\n",
       "  </tbody>\n",
       "</table>\n",
       "</div>"
      ],
      "text/plain": [
       "                  r      p\n",
       "sepal_width  -0.109  0.183\n",
       "petal_length  0.872  0.000\n",
       "petal_width   0.818  0.000"
      ]
     },
     "execution_count": 115,
     "metadata": {},
     "output_type": "execute_result"
    }
   ],
   "source": [
    "corr_df"
   ]
  },
  {
   "cell_type": "markdown",
   "metadata": {},
   "source": [
    "__Observation__:\n",
    "\n",
    "- we accept the null hypothesis for sepal length and sepal width\n",
    "- we reject the null hypothesis for sepal length and petal length \n",
    "- we reject the null hypothesis for sepal length and petal width "
   ]
  },
  {
   "cell_type": "markdown",
   "metadata": {},
   "source": [
    "### Next Steps <a anchor = \"anchor\" id = \"5\"></a>\n",
    "\n",
    "The next step will be more throughly exploratory data analysis by inversting and creating another plots for our attributes to get more insights and after EDA step, we will try different machine learning algorithms to see which one is best for data set "
   ]
  }
 ],
 "metadata": {
  "kernelspec": {
   "display_name": "Python 3",
   "language": "python",
   "name": "python3"
  },
  "language_info": {
   "codemirror_mode": {
    "name": "ipython",
    "version": 3
   },
   "file_extension": ".py",
   "mimetype": "text/x-python",
   "name": "python",
   "nbconvert_exporter": "python",
   "pygments_lexer": "ipython3",
   "version": "3.8.3"
  }
 },
 "nbformat": 4,
 "nbformat_minor": 4
}
